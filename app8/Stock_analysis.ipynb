{
 "cells": [
  {
   "cell_type": "code",
   "execution_count": 49,
   "metadata": {},
   "outputs": [],
   "source": [
    "from pandas_datareader import data\n",
    "import datetime\n",
    "from bokeh.plotting import figure, show, output_file\n",
    "from bokeh.embed import components\n",
    "from bokeh.resources import CDN\n",
    "\n",
    "start = datetime.datetime(2015,11,1)\n",
    "end = datetime.datetime(2016,3,10)\n",
    "df = data.DataReader(name=\"GOOG\", data_source=\"yahoo\", start=start, end=end)\n",
    "\n",
    "# date_increase = df.index[df.Close > df.Open]\n",
    "# date_decrease = df.index[df.Close < df.Open]\n",
    "def inc_dec(c, o):\n",
    "    if c > o:\n",
    "        value = \"increase\"\n",
    "    elif c < o:\n",
    "        value = \"decrease\"\n",
    "    else:\n",
    "        value = \"equal\"\n",
    "    return value\n",
    "    \n",
    "\n",
    "df[\"Status\"] = [inc_dec(c, o) for c, o in zip(df.Close, df.Open)]\n",
    "df[\"Middle\"] = (df.Open+df.Close)/2\n",
    "df[\"Height\"] = abs(df.Close-df.Open)\n",
    "df\n",
    "\n",
    "p = figure(x_axis_type='datetime', width=1000, height=300, sizing_mode='scale_width')\n",
    "p.title.text = \"Example Candlestick Chart\"\n",
    "p.grid.grid_line_alpha = 0.4\n",
    "\n",
    "hours_12 = 12*60*60*1000 \n",
    "\n",
    "p.segment(df.index, df.High, df.index, df.Low, color=\"#C0C0C0\")\n",
    "p.rect(df.index[df.Status == \"increase\"], df.Middle[df.Status == \"increase\"], hours_12, df.Height[df.Status == \"increase\"],\n",
    "      fill_color=\"#ADD8E6\", line_color=\"#C0C0C0\")\n",
    "p.rect(df.index[df.Status == \"decrease\"], df.Middle[df.Status == \"decrease\"], hours_12, df.Height[df.Status == \"decrease\"],\n",
    "      fill_color=\"#FFB6C1\", line_color=\"#C0C0C0\")\n",
    "\n",
    "script1, div1 = components(p)\n",
    "cdn_js = CDN.js_files\n",
    "\n",
    "\n",
    "\n",
    "# output_file(\"CS.html\")\n",
    "# show(p)"
   ]
  },
  {
   "cell_type": "code",
   "execution_count": 45,
   "metadata": {},
   "outputs": [
    {
     "name": "stdout",
     "output_type": "stream",
     "text": [
      "\n",
      "<div class=\"bk-root\" id=\"43a0cbd2-68b5-493a-a21f-57f2e2141937\" data-root-id=\"6369\"></div>\n"
     ]
    }
   ],
   "source": [
    "print(div1)"
   ]
  },
  {
   "cell_type": "code",
   "execution_count": 54,
   "metadata": {},
   "outputs": [
    {
     "data": {
      "text/plain": [
       "'https://cdn.bokeh.org/bokeh/release/bokeh-2.1.1.min.js'"
      ]
     },
     "execution_count": 54,
     "metadata": {},
     "output_type": "execute_result"
    }
   ],
   "source": [
    "cdn_js[0]"
   ]
  }
 ],
 "metadata": {
  "kernelspec": {
   "display_name": "Python 3",
   "language": "python",
   "name": "python3"
  },
  "language_info": {
   "codemirror_mode": {
    "name": "ipython",
    "version": 3
   },
   "file_extension": ".py",
   "mimetype": "text/x-python",
   "name": "python",
   "nbconvert_exporter": "python",
   "pygments_lexer": "ipython3",
   "version": "3.7.3"
  }
 },
 "nbformat": 4,
 "nbformat_minor": 4
}
